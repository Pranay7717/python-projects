{
  "nbformat": 4,
  "nbformat_minor": 0,
  "metadata": {
    "colab": {
      "provenance": [],
      "authorship_tag": "ABX9TyOs+o5kMIi1FZUBKyO2TqQ5",
      "include_colab_link": true
    },
    "kernelspec": {
      "name": "python3",
      "display_name": "Python 3"
    },
    "language_info": {
      "name": "python"
    }
  },
  "cells": [
    {
      "cell_type": "markdown",
      "metadata": {
        "id": "view-in-github",
        "colab_type": "text"
      },
      "source": [
        "<a href=\"https://colab.research.google.com/github/Pranay7717/python-projects/blob/pranay/hometask3.ipynb\" target=\"_parent\"><img src=\"https://colab.research.google.com/assets/colab-badge.svg\" alt=\"Open In Colab\"/></a>"
      ]
    },
    {
      "cell_type": "code",
      "source": [
        "def main(x): # defining function main with argumnet x\n",
        "  text = [] # here we are taking a empty list text where we will be stroing the numbers that are in input string\n",
        "  current_number =\"\" # here we are taking an empty string to store the digits in the input string\n",
        "  for i in x: # strated a for loop to check x\n",
        "    if 48<= ord(i) <=57: # here it checks if the character is a number or string if the character is between 48 and 57 in ascii value then it is a number\n",
        "      current_number += i # here if it is a multi digit number it is added to current_number\n",
        "    else:\n",
        "      if current_number: # here if it is not digit and the current_number is not empty\n",
        "        text.append(current_number)# we are adding the digit that is present in current_number to list \"text\"\n",
        "        current_number = \"\" # here current_number is an empty string again and ready to start collecting the digits\n",
        "  return \",\".join(text) # we are returning the text by joing the digits that are present in the list using ,\n",
        "in_put = \"There are 24 apples and 12 apples\" # givinbg input\n",
        "out_put = main(in_put) # calling the main function and stoting it in out_put\n",
        "print(out_put)# printing out_put\n"
      ],
      "metadata": {
        "colab": {
          "base_uri": "https://localhost:8080/"
        },
        "id": "aSVwlW-BjvTG",
        "outputId": "6e8e4bfb-cc8d-4518-f2d6-a02d13a08750"
      },
      "execution_count": null,
      "outputs": [
        {
          "output_type": "stream",
          "name": "stdout",
          "text": [
            "24,12\n"
          ]
        }
      ]
    },
    {
      "cell_type": "code",
      "source": [
        "n = input(\"enter your gmail: \")\n",
        "\n",
        "if \".com\" in n and \"@\" in n:\n",
        "    print(n)\n",
        "else:\n",
        "    print(\"enter valid  input\")"
      ],
      "metadata": {
        "colab": {
          "base_uri": "https://localhost:8080/"
        },
        "id": "rIr-XPFppv0Z",
        "outputId": "5751b049-8cae-480f-dafa-149f947d41e6"
      },
      "execution_count": null,
      "outputs": [
        {
          "output_type": "stream",
          "name": "stdout",
          "text": [
            "enter your gmail: pytudgcjff@gmail.com\n",
            "pytudgcjff@gmail.com\n"
          ]
        }
      ]
    },
    {
      "cell_type": "code",
      "source": [
        "def mail(): # defining a function called mail\n",
        " if \"@\" in mail_id and mail_id.endswith(\".com\"): # here we are cchecking if the given input contains both @ and .com using if condition\n",
        "    return mail_id# if both are there we are returning the mail\n",
        " else:# enter else if any of them are not there\n",
        "  return \"Enter a valid mail id: \"# and then returning this\n",
        "mail_id = input(\"Enter a mail id: \")# taking input\n",
        "result = mail()# calling the main function and storing it in result\n",
        "print(result)# printing the result"
      ],
      "metadata": {
        "colab": {
          "base_uri": "https://localhost:8080/"
        },
        "id": "_jVu3ghN3QM8",
        "outputId": "19e26c82-3984-4bc6-e98a-50d6ae790d43"
      },
      "execution_count": null,
      "outputs": [
        {
          "output_type": "stream",
          "name": "stdout",
          "text": [
            "Enter a mail id: ohgftgv@gmail.com\n",
            "ohgftgv@gmail.com\n"
          ]
        }
      ]
    },
    {
      "cell_type": "markdown",
      "source": [
        "find all words starting with capital letter(captalize, ascii)\n",
        "input: \"Today is Good Day\"\n",
        "output:'Today', 'Good', 'Day'\n",
        "1) split using comma( output (Today, is, Good , Day))\n",
        "2) for loop len(split())\n",
        "3)if search"
      ],
      "metadata": {
        "id": "9He2P9oe1_7G"
      }
    },
    {
      "cell_type": "code",
      "source": [],
      "metadata": {
        "id": "TtybSjyYUma0"
      },
      "execution_count": null,
      "outputs": []
    },
    {
      "cell_type": "code",
      "source": [
        "def capital(a): # defining finction\n",
        "  a = a.split(\" \")\n",
        "  return a # we are splitting the word using and returning a\n",
        "a = \"Today is a Good Day\" # giving input\n",
        "result = capital(a) # calling capital and storing it in result\n",
        "capital_word = \"\"  # took an empty string\n",
        "for i in range(len(result)): # here this loop checks from  to length of the result\n",
        "    if 65 <= ord(result[i][0]) <= 90:  # here Checking if the first letter is uppercase [0] starts checking from the first letter of the result[i]\n",
        "        if capital_word:# if it is upper case\n",
        "            capital_word += \",\"  # Add a space before appending a new word\n",
        "        capital_word += result[i] # if the word starts with capital it is added to\n",
        "print(result)\n",
        "print(capital_word)\n"
      ],
      "metadata": {
        "id": "FZ1wfy684hVZ",
        "colab": {
          "base_uri": "https://localhost:8080/",
          "height": 263
        },
        "outputId": "9a41ad68-d09f-4629-cbfd-a320b9091a60"
      },
      "execution_count": null,
      "outputs": [
        {
          "output_type": "error",
          "ename": "AttributeError",
          "evalue": "'str' object has no attribute 'append'",
          "traceback": [
            "\u001b[0;31m---------------------------------------------------------------------------\u001b[0m",
            "\u001b[0;31mAttributeError\u001b[0m                            Traceback (most recent call last)",
            "\u001b[0;32m<ipython-input-62-1658cb5a7b59>\u001b[0m in \u001b[0;36m<cell line: 0>\u001b[0;34m()\u001b[0m\n\u001b[1;32m      7\u001b[0m \u001b[0;32mfor\u001b[0m \u001b[0mi\u001b[0m \u001b[0;32min\u001b[0m \u001b[0mrange\u001b[0m\u001b[0;34m(\u001b[0m\u001b[0mlen\u001b[0m\u001b[0;34m(\u001b[0m\u001b[0mresult\u001b[0m\u001b[0;34m)\u001b[0m\u001b[0;34m)\u001b[0m\u001b[0;34m:\u001b[0m \u001b[0;31m# here this loop checks from i to length of the result\u001b[0m\u001b[0;34m\u001b[0m\u001b[0;34m\u001b[0m\u001b[0m\n\u001b[1;32m      8\u001b[0m     \u001b[0;32mif\u001b[0m \u001b[0;36m65\u001b[0m \u001b[0;34m<=\u001b[0m \u001b[0mord\u001b[0m\u001b[0;34m(\u001b[0m\u001b[0mresult\u001b[0m\u001b[0;34m[\u001b[0m\u001b[0mi\u001b[0m\u001b[0;34m]\u001b[0m\u001b[0;34m[\u001b[0m\u001b[0;36m0\u001b[0m\u001b[0;34m]\u001b[0m\u001b[0;34m)\u001b[0m \u001b[0;34m<=\u001b[0m \u001b[0;36m90\u001b[0m\u001b[0;34m:\u001b[0m  \u001b[0;31m# here Checking if the first letter is uppercase [0] starts checking from the first letter of the result[i]\u001b[0m\u001b[0;34m\u001b[0m\u001b[0;34m\u001b[0m\u001b[0m\n\u001b[0;32m----> 9\u001b[0;31m       \u001b[0mcapital_word\u001b[0m\u001b[0;34m.\u001b[0m\u001b[0mappend\u001b[0m\u001b[0;34m(\u001b[0m\u001b[0mresult\u001b[0m\u001b[0;34m[\u001b[0m\u001b[0mi\u001b[0m\u001b[0;34m]\u001b[0m\u001b[0;34m)\u001b[0m \u001b[0;31m# if the word starts with capital it is added to\u001b[0m\u001b[0;34m\u001b[0m\u001b[0;34m\u001b[0m\u001b[0m\n\u001b[0m\u001b[1;32m     10\u001b[0m \u001b[0mprint\u001b[0m\u001b[0;34m(\u001b[0m\u001b[0mresult\u001b[0m\u001b[0;34m)\u001b[0m\u001b[0;34m\u001b[0m\u001b[0;34m\u001b[0m\u001b[0m\n\u001b[1;32m     11\u001b[0m \u001b[0mprint\u001b[0m\u001b[0;34m(\u001b[0m\u001b[0mcapital_word\u001b[0m\u001b[0;34m)\u001b[0m\u001b[0;34m\u001b[0m\u001b[0;34m\u001b[0m\u001b[0m\n",
            "\u001b[0;31mAttributeError\u001b[0m: 'str' object has no attribute 'append'"
          ]
        }
      ]
    },
    {
      "cell_type": "markdown",
      "source": [
        "lamda function\n"
      ],
      "metadata": {
        "id": "5mYbdoWnZrhy"
      }
    },
    {
      "cell_type": "code",
      "source": [
        "add = lambda a, b: a + b # lambda expression for addition\n",
        "sub = lambda a, b: a - b # lambda exprrssion for substraction\n",
        "mul = lambda a, b: a * b # lambda expression for multiplication\n",
        "sqr = lambda a, b: a ** b # lambda expression for sqaure root\n",
        "x = int(input(\"Enter first number: \"))\n",
        "y = int(input(\"enter second number: \"))\n",
        "operation = input(\" enter an opeartor (+, -, *, **):\")\n",
        "if operation == \"+\":\n",
        "  result = add(x, y)\n",
        "elif operation == \"-\":\n",
        "  result = sub(x, y)\n",
        "elif operation == \"*\":\n",
        "  result = mul(x, y)\n",
        "elif operation == \"**\":\n",
        "  result = sqr(x, y)\n",
        "else:\n",
        "  result = \"invalid opeartor\"\n",
        "print(result)\n",
        "\n"
      ],
      "metadata": {
        "colab": {
          "base_uri": "https://localhost:8080/"
        },
        "id": "OHvxPxdlZqnM",
        "outputId": "7775db54-155d-4d2a-b50c-50cdc9353742"
      },
      "execution_count": null,
      "outputs": [
        {
          "output_type": "stream",
          "name": "stdout",
          "text": [
            "Enter first number: 6\n",
            "enter second number: 7\n",
            " enter an opeartor (+, -, *, **):**\n",
            "279936\n"
          ]
        }
      ]
    },
    {
      "cell_type": "code",
      "source": [
        "def cal(*args):\n",
        "  result = sum()"
      ],
      "metadata": {
        "id": "3aIfIzLlkOQO"
      },
      "execution_count": null,
      "outputs": []
    },
    {
      "cell_type": "markdown",
      "source": [
        "lambda examples"
      ],
      "metadata": {
        "id": "gcwQY2W6qjmY"
      }
    },
    {
      "cell_type": "code",
      "source": [
        "A= lambda a: a+10\n",
        "print(A(5))"
      ],
      "metadata": {
        "colab": {
          "base_uri": "https://localhost:8080/"
        },
        "id": "hQoWxt5tqYso",
        "outputId": "6fc9cef6-0114-4353-b8ef-ceb9e53ed01c"
      },
      "execution_count": null,
      "outputs": [
        {
          "output_type": "stream",
          "name": "stdout",
          "text": [
            "15\n"
          ]
        }
      ]
    },
    {
      "cell_type": "code",
      "source": [
        "A = lambda a, b, c, d: a + b + c + d\n",
        "print(A(2, 3, 4, 5))"
      ],
      "metadata": {
        "colab": {
          "base_uri": "https://localhost:8080/"
        },
        "id": "-Me-zdCfqmtA",
        "outputId": "fc21ce96-a502-44bf-9f21-a23ac3a361e9"
      },
      "execution_count": null,
      "outputs": [
        {
          "output_type": "stream",
          "name": "stdout",
          "text": [
            "14\n"
          ]
        }
      ]
    },
    {
      "cell_type": "code",
      "source": [
        "max = lambda a, b: a if a>b else b\n",
        "print(max(59,67))"
      ],
      "metadata": {
        "colab": {
          "base_uri": "https://localhost:8080/"
        },
        "id": "4eAb60derGvo",
        "outputId": "e922837c-c0d6-4916-a6b1-5bbccb475a16"
      },
      "execution_count": null,
      "outputs": [
        {
          "output_type": "stream",
          "name": "stdout",
          "text": [
            "67\n"
          ]
        }
      ]
    },
    {
      "cell_type": "code",
      "source": [
        "def calculator(operation, *args):\n",
        "    if not args:\n",
        "        return \"No numbers provided!\"\n",
        "    if operation == \"add\":# calculating sum\n",
        "        return sum(args)\n",
        "    elif operation == \"subtract\":# substuraction\n",
        "        result = args[0]\n",
        "        for num in args[1:]:\n",
        "            result -= num\n",
        "        return result\n",
        "    elif operation == \"multiply\":# multiply\n",
        "        result = 1\n",
        "        for num in args:\n",
        "            result *= num\n",
        "        return result\n",
        "    elif operation == \"divide\":# division\n",
        "        result = args[0]\n",
        "        for num in args[1:]:\n",
        "            if num == 0:\n",
        "                return \"Error: Division by zero!\"\n",
        "            result /= num\n",
        "            return result\n",
        "    else:\n",
        "         return \"Invalid operation!\"\n",
        "print(\"Addition:\", calculator(\"add\", 1, 2, 3, 4, 5))\n",
        "print(\"Substraction:\", calculator(\"subtract\", 100, 25, 16))\n",
        "print(\"Multiply:\",calculator(\"multiply\", 1, 2, 3, 4))\n",
        "print(\"division:\",calculator(\"divide\", 100, 2, 5))\n"
      ],
      "metadata": {
        "colab": {
          "base_uri": "https://localhost:8080/"
        },
        "id": "ftXIvl7RFAon",
        "outputId": "9eb41534-3209-428f-9965-f1bf474e2c66"
      },
      "execution_count": 8,
      "outputs": [
        {
          "output_type": "stream",
          "name": "stdout",
          "text": [
            "Addition: 15\n",
            "Substraction: 59\n",
            "Multiply: 24\n",
            "division: 50.0\n"
          ]
        }
      ]
    }
  ]
}