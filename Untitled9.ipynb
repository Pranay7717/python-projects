{
  "nbformat": 4,
  "nbformat_minor": 0,
  "metadata": {
    "colab": {
      "provenance": [],
      "authorship_tag": "ABX9TyOGMNCe2Goekh0D2ISFPxFm",
      "include_colab_link": true
    },
    "kernelspec": {
      "name": "python3",
      "display_name": "Python 3"
    },
    "language_info": {
      "name": "python"
    }
  },
  "cells": [
    {
      "cell_type": "markdown",
      "metadata": {
        "id": "view-in-github",
        "colab_type": "text"
      },
      "source": [
        "<a href=\"https://colab.research.google.com/github/Pranay7717/python-projects/blob/pranay/Untitled9.ipynb\" target=\"_parent\"><img src=\"https://colab.research.google.com/assets/colab-badge.svg\" alt=\"Open In Colab\"/></a>"
      ]
    },
    {
      "cell_type": "markdown",
      "source": [
        "casefold().Converts string intlo lower case"
      ],
      "metadata": {
        "id": "ip1VJmavWx9h"
      }
    },
    {
      "cell_type": "code",
      "source": [
        "s = \"PRANAY\"\n",
        "print(s.casefold())"
      ],
      "metadata": {
        "colab": {
          "base_uri": "https://localhost:8080/"
        },
        "id": "DOfYocsocgeA",
        "outputId": "df90214b-fcca-4a5d-a3b5-f66404ea6e7a"
      },
      "execution_count": 33,
      "outputs": [
        {
          "output_type": "stream",
          "name": "stdout",
          "text": [
            "pranay\n"
          ]
        }
      ]
    },
    {
      "cell_type": "markdown",
      "source": [
        "split(). it splits the string with a specified separator"
      ],
      "metadata": {
        "id": "hMYRJrmBW0-B"
      }
    },
    {
      "cell_type": "code",
      "source": [
        "s = \"PRANAY,Rajana\"\n",
        "print(s.split(','))"
      ],
      "metadata": {
        "colab": {
          "base_uri": "https://localhost:8080/"
        },
        "id": "gZQX0LP3cpS6",
        "outputId": "27fcd905-b76e-4140-c6de-5f7cfe7e3c7b"
      },
      "execution_count": 40,
      "outputs": [
        {
          "output_type": "stream",
          "name": "stdout",
          "text": [
            "['PRANAY', 'Rajana']\n"
          ]
        }
      ]
    },
    {
      "cell_type": "markdown",
      "source": [],
      "metadata": {
        "id": "8HQkg7HjW4PU"
      }
    },
    {
      "cell_type": "markdown",
      "source": [
        "strip(). it gives the string after removing all the spaces"
      ],
      "metadata": {
        "id": "wThX7ywfW60h"
      }
    },
    {
      "cell_type": "code",
      "source": [
        "s = \"Pranay     \"\n",
        "print(s.strip())"
      ],
      "metadata": {
        "colab": {
          "base_uri": "https://localhost:8080/"
        },
        "id": "yAZako8Yc-9J",
        "outputId": "199216de-cf1a-4b8f-848b-f9c14e493732"
      },
      "execution_count": 38,
      "outputs": [
        {
          "output_type": "stream",
          "name": "stdout",
          "text": [
            "Pranay\n"
          ]
        }
      ]
    },
    {
      "cell_type": "markdown",
      "source": [
        "translate(). It gives the translated string of the specific language or code"
      ],
      "metadata": {
        "id": "HNk6mvmsW9PJ"
      }
    },
    {
      "cell_type": "code",
      "source": [],
      "metadata": {
        "colab": {
          "base_uri": "https://localhost:8080/"
        },
        "id": "IxbtYQHvdy6T",
        "outputId": "96bdd1b1-bd39-4f7a-ecc6-2292dc4da140"
      },
      "execution_count": 46,
      "outputs": [
        {
          "output_type": "stream",
          "name": "stdout",
          "text": [
            "Pranay\n"
          ]
        }
      ]
    },
    {
      "cell_type": "markdown",
      "source": [
        "upper(). It converts the string to upper case"
      ],
      "metadata": {
        "id": "XpKKk8rWW_dG"
      }
    },
    {
      "cell_type": "code",
      "source": [
        "s = \"Pranay\"\n",
        "print(s.upper())"
      ],
      "metadata": {
        "colab": {
          "base_uri": "https://localhost:8080/"
        },
        "id": "1KZMIxAKdubK",
        "outputId": "d4bc9754-bd51-4b46-9df8-df528191e73f"
      },
      "execution_count": 45,
      "outputs": [
        {
          "output_type": "stream",
          "name": "stdout",
          "text": [
            "PRANAY\n"
          ]
        }
      ]
    },
    {
      "cell_type": "markdown",
      "source": [
        "lower(). It converts the string to lower case"
      ],
      "metadata": {
        "id": "cjvRhWfJXDmn"
      }
    },
    {
      "cell_type": "code",
      "source": [
        "s = \"PRANAY\"\n",
        "print(s.lower())"
      ],
      "metadata": {
        "colab": {
          "base_uri": "https://localhost:8080/"
        },
        "id": "q4iEm0qcdmln",
        "outputId": "1079114b-2cb5-42ee-8f2b-442f88a9d6fc"
      },
      "execution_count": 44,
      "outputs": [
        {
          "output_type": "stream",
          "name": "stdout",
          "text": [
            "pranay\n"
          ]
        }
      ]
    },
    {
      "cell_type": "markdown",
      "source": [
        "isnumeric().it gives us true if all the characters are numeric"
      ],
      "metadata": {
        "id": "6Kv4v6uRXFvG"
      }
    },
    {
      "cell_type": "code",
      "source": [
        "s = \"Pranay\"\n",
        "print(s.isnumeric())"
      ],
      "metadata": {
        "colab": {
          "base_uri": "https://localhost:8080/"
        },
        "id": "yKzYrarDdgEF",
        "outputId": "f5bd178d-daf6-434b-8d76-fd2d931e7077"
      },
      "execution_count": 43,
      "outputs": [
        {
          "output_type": "stream",
          "name": "stdout",
          "text": [
            "False\n"
          ]
        }
      ]
    },
    {
      "cell_type": "markdown",
      "source": [
        "isdigit(). It gives us true if all the characters are digits"
      ],
      "metadata": {
        "id": "h7yL1iFlXIMm"
      }
    },
    {
      "cell_type": "code",
      "source": [
        "s = \"Pranay\"\n",
        "print(s.isdigit())"
      ],
      "metadata": {
        "colab": {
          "base_uri": "https://localhost:8080/"
        },
        "id": "ICyOhra_daPb",
        "outputId": "06d8e6f4-a72f-43c5-93c0-54f1dacabc4a"
      },
      "execution_count": 42,
      "outputs": [
        {
          "output_type": "stream",
          "name": "stdout",
          "text": [
            "False\n"
          ]
        }
      ]
    },
    {
      "cell_type": "markdown",
      "source": [
        "count() it gives the number of times the substring is there"
      ],
      "metadata": {
        "id": "1rEZldUlXKFV"
      }
    },
    {
      "cell_type": "code",
      "source": [
        "s = \"Pranay\"\n",
        "print(s.count('a'))"
      ],
      "metadata": {
        "colab": {
          "base_uri": "https://localhost:8080/"
        },
        "id": "U5OMoLYDcQJV",
        "outputId": "7c7c6612-fa44-4497-e838-e9699ba8b3cd"
      },
      "execution_count": 30,
      "outputs": [
        {
          "output_type": "stream",
          "name": "stdout",
          "text": [
            "2\n"
          ]
        }
      ]
    },
    {
      "cell_type": "markdown",
      "source": [
        "rsplit() it splits the string from the right side"
      ],
      "metadata": {
        "id": "qMjvOJPUXMEW"
      }
    },
    {
      "cell_type": "code",
      "source": [
        "s = \"Pranay   \"\n",
        "print(s.rsplit())"
      ],
      "metadata": {
        "colab": {
          "base_uri": "https://localhost:8080/"
        },
        "id": "NFSRmBw5cIiO",
        "outputId": "ea7137fd-beca-44c6-ec0a-f0f1d168f595"
      },
      "execution_count": 26,
      "outputs": [
        {
          "output_type": "stream",
          "name": "stdout",
          "text": [
            "['Pranay']\n"
          ]
        }
      ]
    },
    {
      "cell_type": "markdown",
      "source": [
        "format() it formats the string for printing a specified value or character"
      ],
      "metadata": {
        "id": "-lTgDtxAXS9G"
      }
    },
    {
      "cell_type": "code",
      "source": [
        "s =\"Pranay,{}\"\n",
        "print(s.format(\"hello\"))"
      ],
      "metadata": {
        "colab": {
          "base_uri": "https://localhost:8080/"
        },
        "id": "IO-D3ag3bXXK",
        "outputId": "8ae61ab9-6739-41c7-e24e-d208426d5734"
      },
      "execution_count": 25,
      "outputs": [
        {
          "output_type": "stream",
          "name": "stdout",
          "text": [
            "Pranay,hello\n"
          ]
        }
      ]
    },
    {
      "cell_type": "markdown",
      "source": [
        "delete() it deletes the string"
      ],
      "metadata": {
        "id": "hTjO1JXHXVfX"
      }
    },
    {
      "cell_type": "code",
      "source": [
        "s =\"Pranay\"\n",
        "del s"
      ],
      "metadata": {
        "id": "1J0FANPkbBG6"
      },
      "execution_count": 17,
      "outputs": []
    },
    {
      "cell_type": "markdown",
      "source": [
        "isalpha() it gives true if all the characters in the string are aplhabets"
      ],
      "metadata": {
        "id": "FI-0KH5_XXoQ"
      }
    },
    {
      "cell_type": "code",
      "source": [
        "s = \"Pranay\"\n",
        "print(s.isalpha())"
      ],
      "metadata": {
        "colab": {
          "base_uri": "https://localhost:8080/"
        },
        "id": "XTFHyFNya5TD",
        "outputId": "7fbcb3a6-567f-43a4-fa5e-5b5ecd7f1eca"
      },
      "execution_count": 14,
      "outputs": [
        {
          "output_type": "stream",
          "name": "stdout",
          "text": [
            "True\n"
          ]
        }
      ]
    },
    {
      "cell_type": "markdown",
      "source": [
        "endswith().it gives us true if a string ends with a given suffix."
      ],
      "metadata": {
        "id": "gtmRPSUBXb0I"
      }
    },
    {
      "cell_type": "code",
      "source": [
        "s = \"Pranay\"\n",
        "print(s.endswith(\"y\"))"
      ],
      "metadata": {
        "colab": {
          "base_uri": "https://localhost:8080/"
        },
        "id": "639u2i19aqgM",
        "outputId": "556d27a8-e07b-4cb2-df79-d5339567e653"
      },
      "execution_count": 13,
      "outputs": [
        {
          "output_type": "stream",
          "name": "stdout",
          "text": [
            "True\n"
          ]
        }
      ]
    },
    {
      "cell_type": "markdown",
      "source": [
        "Title(). Capitalizes the first letter of each word"
      ],
      "metadata": {
        "id": "Tcn45uUBXeEE"
      }
    },
    {
      "cell_type": "code",
      "source": [
        "s = \"Pranay\"\n",
        "print(s.title())"
      ],
      "metadata": {
        "colab": {
          "base_uri": "https://localhost:8080/"
        },
        "id": "kxEyqPd7Zzk-",
        "outputId": "c8e86a06-29d1-4d7b-e26d-70fc0e6e0aae"
      },
      "execution_count": 10,
      "outputs": [
        {
          "output_type": "stream",
          "name": "stdout",
          "text": [
            "Pranay\n"
          ]
        }
      ]
    },
    {
      "cell_type": "markdown",
      "source": [
        "Swapcase() it swaps all the lower cases to upper case and upper case to lower case."
      ],
      "metadata": {
        "id": "mwgsRG4MXgdn"
      }
    },
    {
      "cell_type": "code",
      "source": [
        "s = \"Pranay\"\n",
        "print(s.swapcase())"
      ],
      "metadata": {
        "colab": {
          "base_uri": "https://localhost:8080/"
        },
        "id": "rfn23aKoZoXh",
        "outputId": "23f205c3-8bee-4516-ed92-b27ec2bb48a0"
      },
      "execution_count": 1,
      "outputs": [
        {
          "output_type": "stream",
          "name": "stdout",
          "text": [
            "pRANAY\n"
          ]
        }
      ]
    }
  ]
}