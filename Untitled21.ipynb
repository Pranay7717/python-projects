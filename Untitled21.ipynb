{
  "nbformat": 4,
  "nbformat_minor": 0,
  "metadata": {
    "colab": {
      "provenance": [],
      "authorship_tag": "ABX9TyMNwPn3T3wXIHM8TVGETtyZ",
      "include_colab_link": true
    },
    "kernelspec": {
      "name": "python3",
      "display_name": "Python 3"
    },
    "language_info": {
      "name": "python"
    }
  },
  "cells": [
    {
      "cell_type": "markdown",
      "metadata": {
        "id": "view-in-github",
        "colab_type": "text"
      },
      "source": [
        "<a href=\"https://colab.research.google.com/github/Pranay7717/python-projects/blob/pranay/Untitled21.ipynb\" target=\"_parent\"><img src=\"https://colab.research.google.com/assets/colab-badge.svg\" alt=\"Open In Colab\"/></a>"
      ]
    },
    {
      "cell_type": "code",
      "source": [
        "class Plant:\n",
        "    def __init__(self, name, height):\n",
        "        self.name = name\n",
        "        self.height = height\n",
        "    def grow(self):\n",
        "        print(f\"{self.name} is growing\")\n",
        "    def description(self):\n",
        "        print(f\"{self.name} has grown {self.height} cm tall\")\n",
        "class FloweringPlant(Plant):\n",
        "    def __init__(self, name, height, flower_color):\n",
        "        super().__init__(name, height)\n",
        "        self.flower_color = flower_color\n",
        "    def bloom(self):\n",
        "        print(f\"{self.name} plant is blooming with beautiful {self.flower_color} flowers\")\n",
        "rose = FloweringPlant(\"Rose\", 50, \"red\")\n",
        "rose.grow()\n",
        "rose.description()\n",
        "rose.bloom()"
      ],
      "metadata": {
        "colab": {
          "base_uri": "https://localhost:8080/"
        },
        "id": "hlN98iQB8Tk5",
        "outputId": "3d1a0f76-d138-423d-d6e3-ac990b18df9c"
      },
      "execution_count": null,
      "outputs": [
        {
          "output_type": "stream",
          "name": "stdout",
          "text": [
            "Rose is growing\n",
            "Rose has grown 50 cm tall\n",
            "Rose plant is blooming with beautiful red flowers\n"
          ]
        }
      ]
    },
    {
      "cell_type": "code",
      "source": [
        "class Private:\n",
        "    def __init__(self):\n",
        "        self.__salary = 50000  # Private attribute\n",
        "\n",
        "    def salary(self):\n",
        "        return self.__salary  # Access through public method\n",
        "\n",
        "obj = Private()\n",
        "#print(obj.salary())  # Works\n",
        "print(obj.__salary)  # Raises AttributeError"
      ],
      "metadata": {
        "colab": {
          "base_uri": "https://localhost:8080/",
          "height": 176
        },
        "id": "KrjtAMUcqzs1",
        "outputId": "0ebdf0e1-4cd4-4a55-99ce-5b98d02e2054"
      },
      "execution_count": null,
      "outputs": [
        {
          "output_type": "error",
          "ename": "AttributeError",
          "evalue": "'Private' object has no attribute '__salary'",
          "traceback": [
            "\u001b[0;31m---------------------------------------------------------------------------\u001b[0m",
            "\u001b[0;31mAttributeError\u001b[0m                            Traceback (most recent call last)",
            "\u001b[0;32m<ipython-input-2-32615fefbab3>\u001b[0m in \u001b[0;36m<cell line: 0>\u001b[0;34m()\u001b[0m\n\u001b[1;32m      8\u001b[0m \u001b[0mobj\u001b[0m \u001b[0;34m=\u001b[0m \u001b[0mPrivate\u001b[0m\u001b[0;34m(\u001b[0m\u001b[0;34m)\u001b[0m\u001b[0;34m\u001b[0m\u001b[0;34m\u001b[0m\u001b[0m\n\u001b[1;32m      9\u001b[0m \u001b[0;31m#print(obj.salary())  # Works\u001b[0m\u001b[0;34m\u001b[0m\u001b[0;34m\u001b[0m\u001b[0m\n\u001b[0;32m---> 10\u001b[0;31m \u001b[0mprint\u001b[0m\u001b[0;34m(\u001b[0m\u001b[0mobj\u001b[0m\u001b[0;34m.\u001b[0m\u001b[0m__salary\u001b[0m\u001b[0;34m)\u001b[0m  \u001b[0;31m# Raises AttributeError\u001b[0m\u001b[0;34m\u001b[0m\u001b[0;34m\u001b[0m\u001b[0m\n\u001b[0m",
            "\u001b[0;31mAttributeError\u001b[0m: 'Private' object has no attribute '__salary'"
          ]
        }
      ]
    },
    {
      "cell_type": "code",
      "source": [
        "class Plant:\n",
        "    def __init__(self):\n",
        "        print(\"This is a plant\")\n",
        "    def grow(self):\n",
        "        print(\"Plant is growing\")\n",
        "class Flower(Plant):\n",
        "    def __init__(self):\n",
        "        super().__init__()\n",
        "        print(\"This is a flower\")\n",
        "    def bloom(self):\n",
        "        print(\"Flower is blooming\")\n",
        "class Rose(Flower):\n",
        "    def __init__(self):\n",
        "        super().__init__()\n",
        "        print(\"This is a rose\")\n",
        "    def smell(self):\n",
        "        print(\"Rose smells good\")\n",
        "my_rose = Rose()\n",
        "my_rose.grow()\n",
        "my_rose.bloom()\n",
        "my_rose.smell()"
      ],
      "metadata": {
        "colab": {
          "base_uri": "https://localhost:8080/"
        },
        "id": "ja3gSCplCnDu",
        "outputId": "a0d250b4-7fb3-454c-85f3-42b93977816c"
      },
      "execution_count": null,
      "outputs": [
        {
          "output_type": "stream",
          "name": "stdout",
          "text": [
            "This is a plant\n",
            "This is a flower\n",
            "This is a rose\n",
            "Plant is growing\n",
            "Flower is blooming\n",
            "Rose smells good\n"
          ]
        }
      ]
    },
    {
      "cell_type": "code",
      "source": [
        "class Wallet:\n",
        "  def __init__(self, own, balance):\n",
        "    self.own = own\n",
        "    self.__balance = balance\n",
        "  @property\n",
        "  def g_balance(self):\n",
        "    return self.__balance\n",
        "  @g_balance.setter\n",
        "  def g_balance(self, amount):\n",
        "    if amount > 0:\n",
        "     self.__balance = amount\n",
        "    else:\n",
        "      print(\"Invalid amount\")\n",
        "  def add_money(self, amount):\n",
        "    self.__balance += amount\n",
        "m_w = Wallet(\"pranay\", -5)\n",
        "print(m_w.own)\n",
        "print(m_w.g_balance)"
      ],
      "metadata": {
        "colab": {
          "base_uri": "https://localhost:8080/"
        },
        "id": "nsKrzml12S9O",
        "outputId": "28af6c88-6362-43c5-92a3-255b0c998378"
      },
      "execution_count": null,
      "outputs": [
        {
          "output_type": "stream",
          "name": "stdout",
          "text": [
            "pranay\n",
            "-5\n"
          ]
        }
      ]
    },
    {
      "cell_type": "code",
      "source": [
        "class Car:\n",
        "    def __init__(self, owner, miles, speed):\n",
        "        self.owner = owner\n",
        "        self.__miles = miles\n",
        "        self.__speed = speed\n",
        "    @property\n",
        "    def mileage(self):\n",
        "        return self.__miles\n",
        "    @mileage.setter\n",
        "    def mileage(self, distance):\n",
        "        if distance > 0:\n",
        "            self.__miles = distance\n",
        "        else:\n",
        "            print(\"Invalid miles value\")\n",
        "    @property\n",
        "    def speed(self):\n",
        "        return self.__speed\n",
        "    @speed.setter\n",
        "    def speed(self, new_speed):\n",
        "        if 0 <= new_speed <= 200:\n",
        "            self.__speed = new_speed\n",
        "        else:\n",
        "            print(\"Speed must be between 0 and 200 mph\")\n",
        "    def drive(self, distance):\n",
        "        if distance > 0:\n",
        "            self.__miles += distance\n",
        "            print(f\"Drove {distance} miles\")\n",
        "        else:\n",
        "            print(\"Distance must be positive\")\n",
        "my_car = Car(\"Pranay\", 150, 0)\n",
        "print(my_car.owner)\n",
        "print(my_car.mileage)\n",
        "my_car.speed = 76\n",
        "print(my_car.speed)\n",
        "my_car.drive(140)\n",
        "print(my_car.mileage)"
      ],
      "metadata": {
        "colab": {
          "base_uri": "https://localhost:8080/"
        },
        "id": "7DlEnonnQxHH",
        "outputId": "5482cebe-adee-420b-e7fa-02bb65a53ef7"
      },
      "execution_count": 6,
      "outputs": [
        {
          "output_type": "stream",
          "name": "stdout",
          "text": [
            "Pranay\n",
            "150\n",
            "76\n",
            "Drove 140 miles\n",
            "290\n"
          ]
        }
      ]
    }
  ]
}