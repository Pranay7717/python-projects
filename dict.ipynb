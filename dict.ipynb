{
  "nbformat": 4,
  "nbformat_minor": 0,
  "metadata": {
    "colab": {
      "provenance": [],
      "include_colab_link": true
    },
    "kernelspec": {
      "name": "python3",
      "display_name": "Python 3"
    },
    "language_info": {
      "name": "python"
    }
  },
  "cells": [
    {
      "cell_type": "markdown",
      "metadata": {
        "id": "view-in-github",
        "colab_type": "text"
      },
      "source": [
        "<a href=\"https://colab.research.google.com/github/Pranay7717/python-projects/blob/pranay/dict.ipynb\" target=\"_parent\"><img src=\"https://colab.research.google.com/assets/colab-badge.svg\" alt=\"Open In Colab\"/></a>"
      ]
    },
    {
      "cell_type": "code",
      "execution_count": 61,
      "metadata": {
        "id": "Xvrj158sf_zD",
        "colab": {
          "base_uri": "https://localhost:8080/"
        },
        "outputId": "2ffb713f-bbb8-405c-aaf3-d143fbc2dade"
      },
      "outputs": [
        {
          "output_type": "execute_result",
          "data": {
            "text/plain": [
              "{'Name': 'Pranay', 'Surname': 'Rajana', 'Course': 'CS', 'University': 'UNT'}"
            ]
          },
          "metadata": {},
          "execution_count": 61
        }
      ],
      "source": [
        "fd=dict({\"Name\":\"Pranay\",\"Surname\":\"Rajana\",\"Course\":\"CS\",\"University\":\"UNT\"})\n",
        "fd"
      ]
    },
    {
      "cell_type": "code",
      "source": [
        "fd.keys()"
      ],
      "metadata": {
        "colab": {
          "base_uri": "https://localhost:8080/"
        },
        "id": "eVqpViv6gs9C",
        "outputId": "2e21a64f-87e6-4936-c9da-5779abe249ac"
      },
      "execution_count": 62,
      "outputs": [
        {
          "output_type": "execute_result",
          "data": {
            "text/plain": [
              "dict_keys(['Name', 'Surname', 'Course', 'University'])"
            ]
          },
          "metadata": {},
          "execution_count": 62
        }
      ]
    },
    {
      "cell_type": "code",
      "source": [
        "fd.values()"
      ],
      "metadata": {
        "colab": {
          "base_uri": "https://localhost:8080/"
        },
        "id": "wMjR4P4ohsKx",
        "outputId": "129b8a3f-268a-4b3e-dc6d-f3e869b989d9"
      },
      "execution_count": 63,
      "outputs": [
        {
          "output_type": "execute_result",
          "data": {
            "text/plain": [
              "dict_values(['Pranay', 'Rajana', 'CS', 'UNT'])"
            ]
          },
          "metadata": {},
          "execution_count": 63
        }
      ]
    },
    {
      "cell_type": "code",
      "source": [
        "fd.items()"
      ],
      "metadata": {
        "colab": {
          "base_uri": "https://localhost:8080/"
        },
        "id": "wYplO7K1huVD",
        "outputId": "786cfa4a-12be-457a-f19d-341080b9e0e7"
      },
      "execution_count": 64,
      "outputs": [
        {
          "output_type": "execute_result",
          "data": {
            "text/plain": [
              "dict_items([('Name', 'Pranay'), ('Surname', 'Rajana'), ('Course', 'CS'), ('University', 'UNT')])"
            ]
          },
          "metadata": {},
          "execution_count": 64
        }
      ]
    },
    {
      "cell_type": "code",
      "source": [
        "fd.get(\"Name\")"
      ],
      "metadata": {
        "id": "2In5z0alhw4A"
      },
      "execution_count": 88,
      "outputs": []
    },
    {
      "cell_type": "code",
      "source": [
        "t=fd\n",
        "t.pop(\"Course\")"
      ],
      "metadata": {
        "colab": {
          "base_uri": "https://localhost:8080/",
          "height": 35
        },
        "id": "pYy48DOwh0IZ",
        "outputId": "a6a8163d-9100-4b05-f524-a25b99cac38f"
      },
      "execution_count": 66,
      "outputs": [
        {
          "output_type": "execute_result",
          "data": {
            "text/plain": [
              "'CS'"
            ],
            "application/vnd.google.colaboratory.intrinsic+json": {
              "type": "string"
            }
          },
          "metadata": {},
          "execution_count": 66
        }
      ]
    },
    {
      "cell_type": "code",
      "source": [
        "t"
      ],
      "metadata": {
        "colab": {
          "base_uri": "https://localhost:8080/"
        },
        "id": "PTKo90E8h6f6",
        "outputId": "35806090-8154-4fa2-86f6-6c00f2e5803a"
      },
      "execution_count": 67,
      "outputs": [
        {
          "output_type": "execute_result",
          "data": {
            "text/plain": [
              "{'Name': 'Pranay', 'Surname': 'Rajana', 'University': 'UNT'}"
            ]
          },
          "metadata": {},
          "execution_count": 67
        }
      ]
    },
    {
      "cell_type": "code",
      "source": [
        "nd=dict({\"Location\":\"Denton\",\"State\":\"Texas\"})\n",
        "t.update(nd)"
      ],
      "metadata": {
        "id": "G-OR0rcUh7pz"
      },
      "execution_count": 68,
      "outputs": []
    },
    {
      "cell_type": "code",
      "source": [
        "t"
      ],
      "metadata": {
        "colab": {
          "base_uri": "https://localhost:8080/"
        },
        "id": "YkYKcq5liPAi",
        "outputId": "1ee9352a-156d-4227-a420-6e04ae978a18"
      },
      "execution_count": 69,
      "outputs": [
        {
          "output_type": "execute_result",
          "data": {
            "text/plain": [
              "{'Name': 'Pranay',\n",
              " 'Surname': 'Rajana',\n",
              " 'University': 'UNT',\n",
              " 'Location': 'Denton',\n",
              " 'State': 'Texas'}"
            ]
          },
          "metadata": {},
          "execution_count": 69
        }
      ]
    },
    {
      "cell_type": "code",
      "source": [
        "t.clear()"
      ],
      "metadata": {
        "id": "GkEMdS6LiPsP"
      },
      "execution_count": 70,
      "outputs": []
    },
    {
      "cell_type": "code",
      "source": [
        "t"
      ],
      "metadata": {
        "colab": {
          "base_uri": "https://localhost:8080/"
        },
        "id": "goC7BnnxiSU-",
        "outputId": "7beb3ac6-88aa-43d2-baea-6d219b1429ad"
      },
      "execution_count": 71,
      "outputs": [
        {
          "output_type": "execute_result",
          "data": {
            "text/plain": [
              "{}"
            ]
          },
          "metadata": {},
          "execution_count": 71
        }
      ]
    },
    {
      "cell_type": "code",
      "source": [
        "t=nd.copy()"
      ],
      "metadata": {
        "id": "u4wtXCUWiS-X"
      },
      "execution_count": 72,
      "outputs": []
    },
    {
      "cell_type": "code",
      "source": [
        "t"
      ],
      "metadata": {
        "colab": {
          "base_uri": "https://localhost:8080/"
        },
        "id": "bMoEBegMiYeI",
        "outputId": "c66e511d-15f8-45ce-9ac3-cb5531ff078c"
      },
      "execution_count": 82,
      "outputs": [
        {
          "output_type": "execute_result",
          "data": {
            "text/plain": [
              "{'Location': 'Denton', 'State': 'Texas'}"
            ]
          },
          "metadata": {},
          "execution_count": 82
        }
      ]
    },
    {
      "cell_type": "code",
      "source": [
        "print(\"Location\" in t)"
      ],
      "metadata": {
        "colab": {
          "base_uri": "https://localhost:8080/"
        },
        "id": "V2XlXdggiZHQ",
        "outputId": "dd168b9d-0593-4d46-b8c6-e82b82b15d6e"
      },
      "execution_count": 83,
      "outputs": [
        {
          "output_type": "stream",
          "name": "stdout",
          "text": [
            "True\n"
          ]
        }
      ]
    },
    {
      "cell_type": "code",
      "source": [
        "len(t)"
      ],
      "metadata": {
        "colab": {
          "base_uri": "https://localhost:8080/"
        },
        "id": "HeLl7NGxiemg",
        "outputId": "f0a1299a-6bc1-4ed5-c64c-cdfb23934fc5"
      },
      "execution_count": 75,
      "outputs": [
        {
          "output_type": "execute_result",
          "data": {
            "text/plain": [
              "2"
            ]
          },
          "metadata": {},
          "execution_count": 75
        }
      ]
    },
    {
      "cell_type": "code",
      "source": [
        "person = {\"name\": \"pranay\",\"age\": 25,\"city\": \"Denton\"}\n",
        "print(person[\"name\"])\n"
      ],
      "metadata": {
        "id": "2BkJ2bsjig7T",
        "colab": {
          "base_uri": "https://localhost:8080/"
        },
        "outputId": "b85e9244-682b-44c6-9aa1-16bfde8b595a"
      },
      "execution_count": 76,
      "outputs": [
        {
          "output_type": "stream",
          "name": "stdout",
          "text": [
            "pranay\n"
          ]
        }
      ]
    },
    {
      "cell_type": "code",
      "source": [
        "for key, value in person.items():\n",
        "    print(\"{key} → {value}\")"
      ],
      "metadata": {
        "colab": {
          "base_uri": "https://localhost:8080/"
        },
        "id": "MnZUmb8gqebq",
        "outputId": "e8f498f6-be72-4a22-d720-29a3d5349d6d"
      },
      "execution_count": 77,
      "outputs": [
        {
          "output_type": "stream",
          "name": "stdout",
          "text": [
            "{key} → {value}\n",
            "{key} → {value}\n",
            "{key} → {value}\n"
          ]
        }
      ]
    },
    {
      "cell_type": "code",
      "source": [
        "sentence = \"Pranay is living in Denton\"\n",
        "count = {}\n",
        "for i in sentence:\n",
        "    count[i] = count.get(i, 0) + 1\n",
        "print(count)"
      ],
      "metadata": {
        "colab": {
          "base_uri": "https://localhost:8080/"
        },
        "id": "T-gESuTyqnfo",
        "outputId": "643b6603-d758-4f3a-b5f1-e92e99774610"
      },
      "execution_count": 84,
      "outputs": [
        {
          "output_type": "stream",
          "name": "stdout",
          "text": [
            "{'P': 1, 'r': 1, 'a': 2, 'n': 5, 'y': 1, ' ': 4, 'i': 4, 's': 1, 'l': 1, 'v': 1, 'g': 1, 'D': 1, 'e': 1, 't': 1, 'o': 1}\n"
          ]
        }
      ]
    },
    {
      "cell_type": "code",
      "source": [
        "marks = {\"math\": 95,\"science\": 88,\"english\": 90}\n",
        "print(marks[\"science\"])"
      ],
      "metadata": {
        "colab": {
          "base_uri": "https://localhost:8080/"
        },
        "id": "JZkDMdVirMh5",
        "outputId": "5a2e3206-965e-4412-e2ef-c340b1b4270a"
      },
      "execution_count": 81,
      "outputs": [
        {
          "output_type": "stream",
          "name": "stdout",
          "text": [
            "88\n"
          ]
        }
      ]
    },
    {
      "cell_type": "code",
      "source": [],
      "metadata": {
        "id": "eqeKwgpLrPK4"
      },
      "execution_count": 81,
      "outputs": []
    }
  ]
}