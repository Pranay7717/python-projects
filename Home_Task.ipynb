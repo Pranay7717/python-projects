{
  "nbformat": 4,
  "nbformat_minor": 0,
  "metadata": {
    "colab": {
      "provenance": [],
      "authorship_tag": "ABX9TyMZT01thMCE0ZZtDvw5TtuY",
      "include_colab_link": true
    },
    "kernelspec": {
      "name": "python3",
      "display_name": "Python 3"
    },
    "language_info": {
      "name": "python"
    }
  },
  "cells": [
    {
      "cell_type": "markdown",
      "metadata": {
        "id": "view-in-github",
        "colab_type": "text"
      },
      "source": [
        "<a href=\"https://colab.research.google.com/github/Pranay7717/python-projects/blob/pranay/Home_Task.ipynb\" target=\"_parent\"><img src=\"https://colab.research.google.com/assets/colab-badge.svg\" alt=\"Open In Colab\"/></a>"
      ]
    },
    {
      "cell_type": "code",
      "execution_count": 7,
      "metadata": {
        "colab": {
          "base_uri": "https://localhost:8080/"
        },
        "id": "zIDH6R33TD8e",
        "outputId": "2fffb625-93d9-4112-ce09-5c3455ba1b53"
      },
      "outputs": [
        {
          "output_type": "stream",
          "name": "stdout",
          "text": [
            "it is not\n"
          ]
        }
      ],
      "source": [
        "# a = 33\n",
        "# b = 200\n",
        "# if b > a:\n",
        "#  print(\"it is greater\")\n",
        "# else:\n",
        "#  print(\"it is not\")"
      ]
    },
    {
      "cell_type": "code",
      "source": [
        "x = 7\n",
        "y = 2\n",
        "Add = x + y\n",
        "print(\"Addition:\", Add)\n",
        "Sub = x - y\n",
        "print(\"Substraction:\", Sub)\n",
        "Multi = x * y\n",
        "print(\"Multiplication:\", Multi)\n",
        "Div = x / y\n",
        "print(\"Division:\", Div)\n",
        "power = x ** y\n",
        "print(\"Power:\", power)"
      ],
      "metadata": {
        "colab": {
          "base_uri": "https://localhost:8080/"
        },
        "id": "Toyg9F5CnrxF",
        "outputId": "4741fe16-711d-43cc-ebe1-6d5f06060b08"
      },
      "execution_count": 16,
      "outputs": [
        {
          "output_type": "stream",
          "name": "stdout",
          "text": [
            "Addition: 9\n",
            "Substraction: 5\n",
            "Multiplication: 14\n",
            "Division: 3.5\n",
            "Power: 49\n"
          ]
        }
      ]
    },
    {
      "cell_type": "code",
      "source": [
        "for i in range(1, 11):\n",
        "  if i % 2 == 0:\n",
        "    print(i, \"Even\")\n",
        "  else:\n",
        "    print(i, \"odd\")"
      ],
      "metadata": {
        "colab": {
          "base_uri": "https://localhost:8080/"
        },
        "id": "yOGFy70rv315",
        "outputId": "f09a4bb9-417c-4685-a3f3-b7ff966674ba"
      },
      "execution_count": 10,
      "outputs": [
        {
          "output_type": "stream",
          "name": "stdout",
          "text": [
            "1 odd\n",
            "2 Even\n",
            "3 odd\n",
            "4 Even\n",
            "5 odd\n",
            "6 Even\n",
            "7 odd\n",
            "8 Even\n",
            "9 odd\n",
            "10 Even\n"
          ]
        }
      ]
    },
    {
      "cell_type": "code",
      "source": [
        "if __name__ == '__main__':\n",
        "    n = int(input().strip())\n",
        "if (n % 2) != 0:\n",
        "  print(\"Weird\")\n",
        "else:\n",
        "    if n >= 2 and n <= 5:\n",
        "       print(\"Not Weird\")\n",
        "    elif n >= 6 and n <= 20:\n",
        "      print(\"Weird\")\n",
        "    else:\n",
        "      print(\"Not Weird\")"
      ],
      "metadata": {
        "colab": {
          "base_uri": "https://localhost:8080/"
        },
        "id": "ci1YcvCgwCg9",
        "outputId": "7e4d6621-b456-4282-8b70-a0a2979f9074"
      },
      "execution_count": 15,
      "outputs": [
        {
          "output_type": "stream",
          "name": "stdout",
          "text": [
            "16\n",
            "Weird\n"
          ]
        }
      ]
    }
  ]
}