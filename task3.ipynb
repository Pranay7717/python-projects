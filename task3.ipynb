{
  "nbformat": 4,
  "nbformat_minor": 0,
  "metadata": {
    "colab": {
      "provenance": [],
      "authorship_tag": "ABX9TyM4dl7bTPDdPc4xPVVlp+ot",
      "include_colab_link": true
    },
    "kernelspec": {
      "name": "python3",
      "display_name": "Python 3"
    },
    "language_info": {
      "name": "python"
    }
  },
  "cells": [
    {
      "cell_type": "markdown",
      "metadata": {
        "id": "view-in-github",
        "colab_type": "text"
      },
      "source": [
        "<a href=\"https://colab.research.google.com/github/Pranay7717/python-projects/blob/pranay/task3.ipynb\" target=\"_parent\"><img src=\"https://colab.research.google.com/assets/colab-badge.svg\" alt=\"Open In Colab\"/></a>"
      ]
    },
    {
      "cell_type": "code",
      "execution_count": 45,
      "metadata": {
        "colab": {
          "base_uri": "https://localhost:8080/"
        },
        "id": "mkJfz5PtQXeB",
        "outputId": "5f754768-1c47-428d-cabe-ee8ef2d64487"
      },
      "outputs": [
        {
          "output_type": "stream",
          "name": "stdout",
          "text": [
            "Enter a postive number:7\n",
            "factorial of 7 is 5040\n"
          ]
        }
      ],
      "source": [
        "def fact(A):\n",
        "    if A == 0:\n",
        "        return 1\n",
        "    else:\n",
        "        result = 1\n",
        "    for i in range(1, A+ 1):\n",
        "      result = result * i\n",
        "    return result\n",
        "A = int(input(\"Enter a postive number:\"))\n",
        "fact = fact(A)\n",
        "print(\"factorial of\", A, \"is\", fact)\n"
      ]
    },
    {
      "cell_type": "code",
      "source": [
        "def multiply(n):\n",
        " for i in range(1, 11):\n",
        "  print(f\"{n} x {i} = {n * i}\")\n",
        "n = int(input(\"enter a number:\"))\n",
        "multiply(n)"
      ],
      "metadata": {
        "colab": {
          "base_uri": "https://localhost:8080/"
        },
        "id": "3QxPNdfKRFxF",
        "outputId": "ec5aebe3-8818-418f-d368-e6c2744a3491"
      },
      "execution_count": 62,
      "outputs": [
        {
          "output_type": "stream",
          "name": "stdout",
          "text": [
            "enter a number:11\n",
            "11 x 1 = 11\n",
            "11 x 2 = 22\n",
            "11 x 3 = 33\n",
            "11 x 4 = 44\n",
            "11 x 5 = 55\n",
            "11 x 6 = 66\n",
            "11 x 7 = 77\n",
            "11 x 8 = 88\n",
            "11 x 9 = 99\n",
            "11 x 10 = 110\n"
          ]
        }
      ]
    },
    {
      "cell_type": "code",
      "source": [
        "a= int(input(\"enter a number:\"))\n",
        "for i in range(2, a):\n",
        " if a % 2 == 0:\n",
        "  print (\"The given number\", a, \"is not prime number\")\n",
        "  break\n",
        "else:\n",
        "    print (\"prime number\")"
      ],
      "metadata": {
        "colab": {
          "base_uri": "https://localhost:8080/"
        },
        "id": "2q5uZnVAaoRe",
        "outputId": "76bd06c3-fa00-4b0d-d23b-7780c79a9efa"
      },
      "execution_count": 16,
      "outputs": [
        {
          "output_type": "stream",
          "name": "stdout",
          "text": [
            "enter a number:7\n",
            "prime number\n"
          ]
        }
      ]
    },
    {
      "cell_type": "code",
      "source": [
        "n = input(\"Enter a string or a number: \")\n",
        "u = \"\"\n",
        "for char in n:\n",
        "    u = char + u\n",
        "if n == u:\n",
        "    print(\"It is a Palindrome\")\n",
        "else:\n",
        "    print(\"It is not a Palindrome\")"
      ],
      "metadata": {
        "colab": {
          "base_uri": "https://localhost:8080/"
        },
        "id": "SHyi_S7aIThN",
        "outputId": "c0666c8e-c5f9-4097-982d-142ebd80a69e"
      },
      "execution_count": 29,
      "outputs": [
        {
          "output_type": "stream",
          "name": "stdout",
          "text": [
            "Enter a string or a number: 7676767\n",
            "It is a Palindrome\n"
          ]
        }
      ]
    },
    {
      "cell_type": "code",
      "source": [
        "def fibonacci(X):\n",
        "    if X <= 0:\n",
        "        return 0\n",
        "    elif X == 1:\n",
        "        return 1\n",
        "    else:\n",
        "        return fibonacci(X - 1) + fibonacci(X - 2)\n",
        "number = int(input(\"Enter a number: \"))\n",
        "print(f\"Fibonacci number at position {number} is {fibonacci(number)}\")"
      ],
      "metadata": {
        "colab": {
          "base_uri": "https://localhost:8080/"
        },
        "id": "MBe090TxUCRH",
        "outputId": "cb9ee23a-5395-4183-a26e-fe52c71dd892"
      },
      "execution_count": 41,
      "outputs": [
        {
          "output_type": "stream",
          "name": "stdout",
          "text": [
            "Enter a number: 9\n",
            "Fibonacci number at position 9 is 34\n"
          ]
        }
      ]
    }
  ]
}