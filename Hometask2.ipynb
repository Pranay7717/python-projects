{
  "nbformat": 4,
  "nbformat_minor": 0,
  "metadata": {
    "colab": {
      "provenance": [],
      "authorship_tag": "ABX9TyN0c39XsonvQYMijrfvGYOi",
      "include_colab_link": true
    },
    "kernelspec": {
      "name": "python3",
      "display_name": "Python 3"
    },
    "language_info": {
      "name": "python"
    }
  },
  "cells": [
    {
      "cell_type": "markdown",
      "metadata": {
        "id": "view-in-github",
        "colab_type": "text"
      },
      "source": [
        "<a href=\"https://colab.research.google.com/github/Pranay7717/python-projects/blob/pranay/Hometask2.ipynb\" target=\"_parent\"><img src=\"https://colab.research.google.com/assets/colab-badge.svg\" alt=\"Open In Colab\"/></a>"
      ]
    },
    {
      "cell_type": "code",
      "execution_count": null,
      "metadata": {
        "colab": {
          "base_uri": "https://localhost:8080/"
        },
        "id": "bsbaLPWxtoys",
        "outputId": "eea2bb51-5b25-4048-ebe3-496200a5808b"
      },
      "outputs": [
        {
          "output_type": "stream",
          "name": "stdout",
          "text": [
            "Enter the radius of the circle:890\n",
            "2487194.0\n"
          ]
        }
      ],
      "source": [
        "user_value = float(input(\"Enter the radius of the circle:\"))\n",
        "area= 3.14*user_value**2\n",
        "print(area)"
      ]
    },
    {
      "cell_type": "code",
      "source": [
        "user_input = int(input(\"Enter your value\"))\n",
        "if user_input <0:\n",
        "  print(\"it is negative\")\n",
        "else:\n",
        "  print(\"it is positive\")"
      ],
      "metadata": {
        "colab": {
          "base_uri": "https://localhost:8080/"
        },
        "id": "w6D8Ora9t2-1",
        "outputId": "2b8eaf11-05b4-4a71-9a3b-0a7ad4da85c5"
      },
      "execution_count": null,
      "outputs": [
        {
          "output_type": "stream",
          "name": "stdout",
          "text": [
            "Enter your value7\n",
            "it is positive\n"
          ]
        }
      ]
    },
    {
      "cell_type": "markdown",
      "source": [
        "Given task"
      ],
      "metadata": {
        "id": "A2Imrim4uHW8"
      }
    },
    {
      "cell_type": "code",
      "source": [
        "value1=int(input(\"enter value 1:\"))\n",
        "value2=int(input(\"enter value 2:\"))\n",
        "for uservalue in range(value1, value2 +1):\n",
        "  if uservalue % 2 == 0:\n",
        "    print(uservalue,\"it is even\")\n",
        "  else:\n",
        "    print(uservalue,\"it is odd\")"
      ],
      "metadata": {
        "colab": {
          "base_uri": "https://localhost:8080/"
        },
        "id": "1ZjdOSc4t3vW",
        "outputId": "c2053dee-9650-498c-9472-343f82f844dd"
      },
      "execution_count": null,
      "outputs": [
        {
          "output_type": "stream",
          "name": "stdout",
          "text": [
            "enter value 1:0\n",
            "enter value 2:7\n",
            "0 it is even\n",
            "1 it is odd\n",
            "2 it is even\n",
            "3 it is odd\n",
            "4 it is even\n",
            "5 it is odd\n",
            "6 it is even\n",
            "7 it is odd\n"
          ]
        }
      ]
    },
    {
      "cell_type": "markdown",
      "source": [
        "calling in a function"
      ],
      "metadata": {
        "id": "4i-t7oF5uCNg"
      }
    },
    {
      "cell_type": "code",
      "source": [
        "def check_even_odd_range(value1,value2):\n",
        " value1 = int(input(\"Enter value 1: \"))\n",
        " value2 = int(input(\"Enter value 2: \"))\n",
        " for uservalue in range(value1, value2 + 1):\n",
        "   if uservalue % 2 == 0:\n",
        "      print(uservalue,\"it is even\")\n",
        "   else:\n",
        "     print(uservalue,\"it is odd\")\n",
        "check_even_odd_range(value1,value2)"
      ],
      "metadata": {
        "colab": {
          "base_uri": "https://localhost:8080/"
        },
        "id": "ocNez4mFuBG5",
        "outputId": "58cec20b-3290-41db-f510-ab477507515e"
      },
      "execution_count": null,
      "outputs": [
        {
          "output_type": "stream",
          "name": "stdout",
          "text": [
            "Enter value 1: 0\n",
            "Enter value 2: 10\n",
            "0 it is even\n",
            "1 it is odd\n",
            "2 it is even\n",
            "3 it is odd\n",
            "4 it is even\n",
            "5 it is odd\n",
            "6 it is even\n",
            "7 it is odd\n",
            "8 it is even\n",
            "9 it is odd\n",
            "10 it is even\n"
          ]
        }
      ]
    },
    {
      "cell_type": "code",
      "source": [
        "numbers = [386, 462, 47, 418, 907, 344, 236, 375, 823, 566, 597, 978, 328, 615, 953, 345, 399, 162, 758, 219, 918, 237, 412, 566, 826, 248, 866, 950, 626, 949, 687, 217, 815, 67, 104, 58, 512, 24, 892, 894, 767, 553, 81, 379, 843, 831, 445, 742, 717, 958,743, 527]\n",
        "for values in numbers:\n",
        "    if values == 237:\n",
        "        print(values)\n",
        "        break\n",
        "    elif values % 2 == 0:\n",
        "        print(values)"
      ],
      "metadata": {
        "colab": {
          "base_uri": "https://localhost:8080/"
        },
        "id": "DKNaH-LLvc8g",
        "outputId": "6672813c-d929-4eb9-9772-437c144dcf4f"
      },
      "execution_count": null,
      "outputs": [
        {
          "output_type": "stream",
          "name": "stdout",
          "text": [
            "386\n",
            "462\n",
            "418\n",
            "344\n",
            "236\n",
            "566\n",
            "978\n",
            "328\n",
            "162\n",
            "758\n",
            "918\n",
            "237\n"
          ]
        }
      ]
    },
    {
      "cell_type": "markdown",
      "source": [
        "creating a calculator with there inputs"
      ],
      "metadata": {
        "id": "8IrF5AwGBfQ0"
      }
    },
    {
      "cell_type": "code",
      "source": [
        "def calculator():\n",
        " operand = input(\"Enter operand: \")\n",
        " Number1 = int(input(\"Enter Number1: \"))\n",
        " Number2 = int(input(\"Enter Number2: \"))\n",
        " if operand == \"+\":\n",
        "  print(Number1 + Number2)\n",
        " elif operand == \"-\":\n",
        "    print(Number1 - Number2)\n",
        " elif operand == \"*\":\n",
        "    print(Number1 * Number2)\n",
        " elif operand == \"/\":\n",
        "    print(Number1 / Number2)\n",
        " elif operand == \"%\":\n",
        "    print(Number1 % Number2)\n",
        " elif operand == \"**\":\n",
        "    print(Number1 ** Number2)\n",
        " else:\n",
        "   print(\"Invalid operand\")\n",
        "calculator()"
      ],
      "metadata": {
        "colab": {
          "base_uri": "https://localhost:8080/"
        },
        "id": "NwuhwsXUAb0K",
        "outputId": "5e06db44-688e-4cf6-fa00-3d71bd659331"
      },
      "execution_count": 13,
      "outputs": [
        {
          "output_type": "stream",
          "name": "stdout",
          "text": [
            "Enter operand: *\n",
            "Enter Number1: 78\n",
            "Enter Number2: 76\n",
            "5928\n"
          ]
        }
      ]
    },
    {
      "cell_type": "code",
      "source": [
        "print(\"*\")\n",
        "print(\"* *\")\n",
        "print(\"* * *\")\n",
        "print(\"* * * *\")\n",
        "print(\"* * * * *\")"
      ],
      "metadata": {
        "colab": {
          "base_uri": "https://localhost:8080/"
        },
        "id": "SiCG1d1R6GNv",
        "outputId": "bea01359-fed2-422f-f6fc-6efa0daacc98"
      },
      "execution_count": null,
      "outputs": [
        {
          "output_type": "stream",
          "name": "stdout",
          "text": [
            "*\n",
            "* *\n",
            "* * *\n",
            "* * * *\n",
            "* * * * *\n"
          ]
        }
      ]
    },
    {
      "cell_type": "code",
      "source": [
        "for i in range(0, 5):\n",
        "  print(\"* \" * (i+1))"
      ],
      "metadata": {
        "colab": {
          "base_uri": "https://localhost:8080/"
        },
        "id": "De1YCpWcD7w-",
        "outputId": "344f31d1-c22f-4e6e-9cad-52a97c2c12c8"
      },
      "execution_count": 1,
      "outputs": [
        {
          "output_type": "stream",
          "name": "stdout",
          "text": [
            "* \n",
            "* * \n",
            "* * * \n",
            "* * * * \n",
            "* * * * * \n"
          ]
        }
      ]
    },
    {
      "cell_type": "markdown",
      "source": [],
      "metadata": {
        "id": "1BF5bpFZD92W"
      }
    }
  ]
}