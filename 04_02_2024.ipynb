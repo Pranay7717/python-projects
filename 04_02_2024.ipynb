{
  "nbformat": 4,
  "nbformat_minor": 0,
  "metadata": {
    "colab": {
      "provenance": [],
      "authorship_tag": "ABX9TyNillGYMG9/QfoqRPZuSHP7",
      "include_colab_link": true
    },
    "kernelspec": {
      "name": "python3",
      "display_name": "Python 3"
    },
    "language_info": {
      "name": "python"
    }
  },
  "cells": [
    {
      "cell_type": "markdown",
      "metadata": {
        "id": "view-in-github",
        "colab_type": "text"
      },
      "source": [
        "<a href=\"https://colab.research.google.com/github/Pranay7717/python-projects/blob/pranay/04_02_2024.ipynb\" target=\"_parent\"><img src=\"https://colab.research.google.com/assets/colab-badge.svg\" alt=\"Open In Colab\"/></a>"
      ]
    },
    {
      "cell_type": "markdown",
      "source": [
        "Sum Items in List(Write a Python program to sum all the items in a list.)"
      ],
      "metadata": {
        "id": "GiFEBvt3pP8L"
      }
    },
    {
      "cell_type": "code",
      "execution_count": 2,
      "metadata": {
        "colab": {
          "base_uri": "https://localhost:8080/"
        },
        "id": "nWs3g3Can3W8",
        "outputId": "93c6029c-ea24-441d-a11d-99a155a4af8c"
      },
      "outputs": [
        {
          "output_type": "stream",
          "name": "stdout",
          "text": [
            "45\n"
          ]
        }
      ],
      "source": [
        "P = [1, 2, 3, 4, 5, 6, 7, 8, 9]\n",
        "result = sum(P)\n",
        "print(result)"
      ]
    },
    {
      "cell_type": "markdown",
      "source": [
        "Multiply Items in List(Write a Python program to multiply all the items in a list.)\n"
      ],
      "metadata": {
        "id": "RemIX-irp8Sr"
      }
    },
    {
      "cell_type": "code",
      "source": [
        "A = [1, 2, 3, 4, 5]\n",
        "result = 1\n",
        "for i in A:\n",
        "    result *= i\n",
        "print(\"Multiple:\", result)\n"
      ],
      "metadata": {
        "colab": {
          "base_uri": "https://localhost:8080/"
        },
        "id": "UyQQ3r48qAWg",
        "outputId": "40c4a5c2-5396-41f9-8ca0-45ed23c1ecdd"
      },
      "execution_count": 8,
      "outputs": [
        {
          "output_type": "stream",
          "name": "stdout",
          "text": [
            "Multiple: 120\n"
          ]
        }
      ]
    },
    {
      "cell_type": "markdown",
      "source": [
        "Get Largest Number in List(Write a Python program to get the largest number from a list)"
      ],
      "metadata": {
        "id": "XC51ZiScqtJR"
      }
    },
    {
      "cell_type": "code",
      "source": [
        "P = [10, 20, 47, 96, 0, 108, 658, 98, 11, 82]\n",
        "largest = max(P)\n",
        "print(\"Largest Number in list is:\", largest)\n"
      ],
      "metadata": {
        "colab": {
          "base_uri": "https://localhost:8080/"
        },
        "id": "iTL5S68Dq2eh",
        "outputId": "0809fdb2-4b23-4656-aa4b-bea45abf0ff0"
      },
      "execution_count": 11,
      "outputs": [
        {
          "output_type": "stream",
          "name": "stdout",
          "text": [
            "Largest Number in list is: 658\n"
          ]
        }
      ]
    },
    {
      "cell_type": "markdown",
      "source": [
        "Get Smallest Number in List(Write a Python program to get the smallest number from a list.)"
      ],
      "metadata": {
        "id": "2cTPP9NirYyB"
      }
    },
    {
      "cell_type": "code",
      "source": [
        "P = [100, 20, 47, 96, 108, 658, 98, 11, 82]\n",
        "smallest = P[0]\n",
        "for i in P:\n",
        "    if i < smallest:\n",
        "        smallest = i\n",
        "print(\"Smallest Number in the list is:\", smallest)\n"
      ],
      "metadata": {
        "colab": {
          "base_uri": "https://localhost:8080/"
        },
        "id": "cMkmwxO9raGU",
        "outputId": "203c0998-32a4-4933-b8e9-5eb012480fef"
      },
      "execution_count": 26,
      "outputs": [
        {
          "output_type": "stream",
          "name": "stdout",
          "text": [
            "Smallest Number in the list is: 11\n"
          ]
        }
      ]
    },
    {
      "cell_type": "markdown",
      "source": [
        "5. Count Strings with Same Start and End(Write a Python program to count the number of strings from a given list of strings. The string length is 2 or more and the first and last characters are the same.)\n",
        "Sample List : ['abc', 'xyz', 'aba', '1221']\n",
        "Expected Result : 2"
      ],
      "metadata": {
        "id": "RCsz6wv5tDUu"
      }
    },
    {
      "cell_type": "code",
      "source": [
        "def matching_string(words):\n",
        "    count = 0\n",
        "    for i in words:\n",
        "        if len(i) >= 2 and i[0] == i[-1]:\n",
        "            count += 1\n",
        "    return count\n",
        "P = ['abc', 'xyz', 'aba', '1221']\n",
        "result = matching_string(P)\n",
        "print(\"Number of matching strings are:\", result)\n"
      ],
      "metadata": {
        "colab": {
          "base_uri": "https://localhost:8080/"
        },
        "id": "7_Ucz-HRtEgF",
        "outputId": "120e894e-684c-4de2-8a30-8ba11c7fc021"
      },
      "execution_count": 1,
      "outputs": [
        {
          "output_type": "stream",
          "name": "stdout",
          "text": [
            "Number of matching strings are: 2\n"
          ]
        }
      ]
    }
  ]
}